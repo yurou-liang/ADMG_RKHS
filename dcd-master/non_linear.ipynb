{
 "cells": [
  {
   "cell_type": "code",
   "execution_count": null,
   "metadata": {},
   "outputs": [],
   "source": [
    "import torch\n",
    "import numpy as np\n",
    "import matplotlib.pyplot as plt\n",
    "import admg_discovery\n",
    "import pandas as pd\n",
    "from sklearn.preprocessing import StandardScaler"
   ]
  },
  {
   "cell_type": "code",
   "execution_count": null,
   "metadata": {},
   "outputs": [],
   "source": [
    "size = 300\n",
    "dim = 3\n",
    "\n",
    "np.random.seed(45)\n",
    "# Step 1: Define the covariance matrix\n",
    "True_Sigma = np.array([[1, 0.6, 0],    # Variance of X is 1, covariance between X and Y is 0.8\n",
    "                  [0.6, 1, 0],\n",
    "                  [0, 0, 1]])   # Variance of Y is 1, covariance between Y and X is 0.8\n",
    "dim = True_Sigma.shape[0]\n",
    "epsilon = np.random.multivariate_normal([0] * dim, True_Sigma, size=size)\n",
    "\n",
    "# Optionally, check the empirical covariance matrix\n",
    "empirical_covariance = np.cov(epsilon, rowvar=False)\n",
    "print(\"Empirical Covariance Matrix:\")\n",
    "print(empirical_covariance)"
   ]
  },
  {
   "cell_type": "code",
   "execution_count": null,
   "metadata": {},
   "outputs": [],
   "source": [
    "epsilon1 = epsilon[:, 0]\n",
    "epsilon2 = epsilon[:, 1]\n",
    "epsilon3 = epsilon[:, 2]\n",
    "x1 = epsilon1\n",
    "x2 = epsilon2 \n",
    "x3 = np.array([np.sin(x1)*10 + (x2**2) + epsilon3 for x1, x2, epsilon3 in zip(x1, x2, epsilon3)])\n",
    "X = np.column_stack((x1, x2, x3))\n",
    "data = pd.DataFrame(X, columns=['x1', 'x2', \"x3\"])\n",
    "print(\"data: \", data.head())\n",
    "covariance = data.cov()\n",
    "print(\"covariance: \", covariance)"
   ]
  },
  {
   "cell_type": "code",
   "execution_count": null,
   "metadata": {},
   "outputs": [],
   "source": [
    "G, convergence, output, W1, W2 = admg_discovery._discover_admg(data=data, admg_class = \"ancestral\")"
   ]
  },
  {
   "cell_type": "code",
   "execution_count": null,
   "metadata": {},
   "outputs": [],
   "source": [
    "print(\"W1: \", W1)\n",
    "print(\"W2: \", W2)"
   ]
  }
 ],
 "metadata": {
  "language_info": {
   "name": "python"
  }
 },
 "nbformat": 4,
 "nbformat_minor": 2
}
